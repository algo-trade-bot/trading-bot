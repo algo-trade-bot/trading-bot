{
 "cells": [
  {
   "cell_type": "markdown",
   "metadata": {},
   "source": [
    "# Extracting Time Features"
   ]
  },
  {
   "cell_type": "code",
   "execution_count": null,
   "metadata": {
    "vscode": {
     "languageId": "plaintext"
    }
   },
   "outputs": [],
   "source": [
    "import datetime\n",
    "\n",
    "# Example Unix timestamp\n",
    "unix_timestamp = 1630234567\n",
    "\n",
    "# Convert Unix timestamp to datetime object\n",
    "dt_object = datetime.datetime.utcfromtimestamp(unix_timestamp)\n",
    "\n",
    "# Extract the hour of the day (in 24-hour format)\n",
    "hour_of_day = dt_object.hour\n",
    "\n",
    "print(\"Hour of the day:\", hour_of_day)"
   ]
  }
 ],
 "metadata": {
  "language_info": {
   "name": "python"
  }
 },
 "nbformat": 4,
 "nbformat_minor": 2
}
