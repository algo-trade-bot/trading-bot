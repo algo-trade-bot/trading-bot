{
 "cells": [
  {
   "cell_type": "code",
   "execution_count": 5,
   "metadata": {},
   "outputs": [],
   "source": [
    "import gymnasium as gym\n",
    "from gymnasium import spaces\n",
    "from gymnasium.envs.registration import register\n",
    "\n",
    "import numpy as np\n",
    "import pandas as pd\n",
    "from sklearn.preprocessing import MinMaxScaler\n",
    "from collections import namedtuple"
   ]
  },
  {
   "cell_type": "code",
   "execution_count": 6,
   "metadata": {},
   "outputs": [],
   "source": [
    "df = pd.read_csv('ETHUSD_5.csv', header=None, names=['Time', 'Open', 'High', 'Low', 'Close', 'Volume', 'Trades'])\n",
    "df['Time'] = pd.to_datetime(df['Time'], unit='s')\n",
    "df.set_index('Time', inplace=True)\n",
    "df = df.to_numpy()"
   ]
  },
  {
   "cell_type": "code",
   "execution_count": 16,
   "metadata": {},
   "outputs": [],
   "source": [
    "class TradeEnv(gym.Env):\n",
    "    \n",
    "    def __init__(self, input_dim, max_steps, cash_balance, df):\n",
    "        super(TradeEnv, self).__init__()\n",
    "        self.input_dim = input_dim\n",
    "        self.action_space = spaces.Discrete(3)  # actions: buy, sell and hold\n",
    "        self.observation_space = spaces.Box(low=np.zeros(self.input_dim), high=np.ones(self.input_dim) * np.inf, dtype=np.float64)\n",
    "        self.df = df\n",
    "        self.df_counter = 0\n",
    "\n",
    "        self.current_step = 0\n",
    "        self.max_steps = max_steps  # episode terminates when day ends\n",
    "\n",
    "        self.state = None\n",
    "\n",
    "        self.hold_counter = 0\n",
    "        self.impossible_sell_counter = 0\n",
    "        self.impossible_buy_counter = 0\n",
    "\n",
    "        self.current_price = 0\n",
    "        self.initial_cash = cash_balance\n",
    "\n",
    "        self.inventory = {'Last Buy Price': 0,\n",
    "                          'Holdings': 0,\n",
    "                          'Cash Balance': cash_balance,\n",
    "                          'Profit': 0,\n",
    "                          'Volatility': 0,\n",
    "                          'Sharpe Ratio': 0}\n",
    "        \n",
    "\n",
    "    def step(self, action):\n",
    "        self.current_step += 1\n",
    "        self.df_counter += 1\n",
    "        done = self.current_step == self.max_steps\n",
    "\n",
    "        reward = self.calculate_pnl(action)\n",
    "        self.state = self.update_state(self.df[self.df_counter])\n",
    "\n",
    "        info = {\"Profit\": self.inventory[\"Profit\"]}\n",
    "\n",
    "        return self.state, reward, done, info\n",
    "    \n",
    "    def update_state(self, next_state):\n",
    "        self.state = next_state\n",
    "        return self.state\n",
    "    \n",
    "\n",
    "    def reset(self):\n",
    "        self.__init__(self.input_dim, self.max_steps, self.initial_cash, self.df)\n",
    "        self.df_counter = 0\n",
    "        self.state = self.df[self.df_counter]\n",
    "\n",
    "        info = {}\n",
    "\n",
    "        return self.state, info\n",
    "\n",
    "\n",
    "    def calculate_pnl(self, action):\n",
    "\n",
    "        self.current_price = self.state[0]  # select open price for OHLCVT data\n",
    "\n",
    "        if action == 0: # buy\n",
    "            if self.inventory[\"Holdings\"] == 0:   # need to have empty inventory to buy\n",
    "                buy_quantity = self.inventory[\"Cash Balance\"] / self.current_price\n",
    "                self.inventory['Cash Balance'] = 0\n",
    "                self.inventory[\"Holdings\"] = buy_quantity\n",
    "                self.hold_counter = 0\n",
    "                self.inventory[\"Last Buy Price\"] = self.current_price\n",
    "                reward = 0\n",
    "            else:\n",
    "                self.impossible_buy_counter += 1\n",
    "                reward = -self.impossible_buy_counter\n",
    "\n",
    "        elif action == 1: # sell\n",
    "            if self.inventory[\"Holdings\"] > 0:  # need to own in order to sell\n",
    "                self.inventory[\"Cash Balance\"] += self.inventory[\"Holdings\"] * self.current_price\n",
    "                reward = self.inventory[\"Cash Balance\"] - self.inventory[\"Holdings\"] * self.inventory[\"Last Buy Price\"]\n",
    "                self.inventory[\"Holdings\"] = 0\n",
    "                self.inventory[\"Last Buy Price\"] = 0\n",
    "                self.hold_counter = 0\n",
    "                self.inventory['Profit'] += reward\n",
    "            else:\n",
    "                self.impossible_sell_counter += 1\n",
    "                reward = -self.impossible_sell_counter\n",
    "\n",
    "        elif action == 2: # hold\n",
    "            self.hold_counter += 1\n",
    "            reward = -self.hold_counter / self.initial_cash\n",
    "\n",
    "        return reward"
   ]
  },
  {
   "cell_type": "code",
   "execution_count": 31,
   "metadata": {},
   "outputs": [
    {
     "name": "stderr",
     "output_type": "stream",
     "text": [
      "/Users/wafic/miniconda3/envs/datalibs/lib/python3.11/site-packages/gymnasium/envs/registration.py:498: UserWarning: \u001b[33mWARN: Overriding environment TradeEnv-v1 already in registry.\u001b[0m\n",
      "  logger.warn(f\"Overriding environment {new_spec.id} already in registry.\")\n"
     ]
    }
   ],
   "source": [
    "register(\n",
    "     id=\"TradeEnv-v1\",\n",
    "     entry_point=\"__main__:TradeEnv\",\n",
    "     kwargs={'input_dim': 6, 'max_steps': 288, 'cash_balance': 1000}\n",
    ")"
   ]
  },
  {
   "cell_type": "code",
   "execution_count": 17,
   "metadata": {},
   "outputs": [],
   "source": [
    "env = TradeEnv(6, 10, 1000, df=df)"
   ]
  },
  {
   "cell_type": "markdown",
   "metadata": {},
   "source": [
    "# Test"
   ]
  },
  {
   "cell_type": "code",
   "execution_count": 18,
   "metadata": {},
   "outputs": [],
   "source": [
    "first_state, _ = env.reset()"
   ]
  },
  {
   "cell_type": "code",
   "execution_count": 19,
   "metadata": {},
   "outputs": [
    {
     "data": {
      "text/plain": [
       "array([1934.02      , 1936.57      , 1933.66      , 1935.45      ,\n",
       "        121.35739837,   40.        ])"
      ]
     },
     "execution_count": 19,
     "metadata": {},
     "output_type": "execute_result"
    }
   ],
   "source": [
    "first_state"
   ]
  },
  {
   "cell_type": "code",
   "execution_count": 20,
   "metadata": {},
   "outputs": [],
   "source": [
    "next_state, reward, done, info  = env.step(0)"
   ]
  },
  {
   "cell_type": "code",
   "execution_count": 21,
   "metadata": {},
   "outputs": [
    {
     "data": {
      "text/plain": [
       "array([1935.91      , 1937.2       , 1934.58      , 1936.95      ,\n",
       "          2.38832811,   14.        ])"
      ]
     },
     "execution_count": 21,
     "metadata": {},
     "output_type": "execute_result"
    }
   ],
   "source": [
    "next_state"
   ]
  },
  {
   "cell_type": "code",
   "execution_count": 22,
   "metadata": {},
   "outputs": [
    {
     "data": {
      "text/plain": [
       "{'Last Buy Price': 1934.02,\n",
       " 'Holdings': 0.5170577346666528,\n",
       " 'Cash Balance': 0,\n",
       " 'Profit': 0,\n",
       " 'Volatility': 0,\n",
       " 'Sharpe Ratio': 0}"
      ]
     },
     "execution_count": 22,
     "metadata": {},
     "output_type": "execute_result"
    }
   ],
   "source": [
    "env.inventory"
   ]
  },
  {
   "cell_type": "code",
   "execution_count": 23,
   "metadata": {},
   "outputs": [],
   "source": [
    "next_state, reward, done, info  = env.step(1)"
   ]
  },
  {
   "cell_type": "code",
   "execution_count": 24,
   "metadata": {},
   "outputs": [
    {
     "data": {
      "text/plain": [
       "array([1937.03      , 1937.86      , 1930.85      , 1932.37      ,\n",
       "         63.91082145,   31.        ])"
      ]
     },
     "execution_count": 24,
     "metadata": {},
     "output_type": "execute_result"
    }
   ],
   "source": [
    "next_state"
   ]
  },
  {
   "cell_type": "code",
   "execution_count": 25,
   "metadata": {},
   "outputs": [
    {
     "data": {
      "text/plain": [
       "{'Last Buy Price': 0,\n",
       " 'Holdings': 0,\n",
       " 'Cash Balance': 1000.97723911852,\n",
       " 'Profit': 0.9772391185200604,\n",
       " 'Volatility': 0,\n",
       " 'Sharpe Ratio': 0}"
      ]
     },
     "execution_count": 25,
     "metadata": {},
     "output_type": "execute_result"
    }
   ],
   "source": [
    "env.inventory"
   ]
  }
 ],
 "metadata": {
  "kernelspec": {
   "display_name": "datalibs",
   "language": "python",
   "name": "python3"
  },
  "language_info": {
   "codemirror_mode": {
    "name": "ipython",
    "version": 3
   },
   "file_extension": ".py",
   "mimetype": "text/x-python",
   "name": "python",
   "nbconvert_exporter": "python",
   "pygments_lexer": "ipython3",
   "version": "3.11.3"
  }
 },
 "nbformat": 4,
 "nbformat_minor": 2
}
