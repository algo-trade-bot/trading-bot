{
 "cells": [
  {
   "cell_type": "code",
   "execution_count": 161,
   "metadata": {},
   "outputs": [],
   "source": [
    "import gymnasium as gym\n",
    "from gymnasium import spaces\n",
    "from gymnasium.envs.registration import register\n",
    "\n",
    "import numpy as np\n",
    "import pandas as pd\n",
    "from sklearn.preprocessing import MinMaxScaler\n",
    "from collections import namedtuple"
   ]
  },
  {
   "cell_type": "code",
   "execution_count": 162,
   "metadata": {},
   "outputs": [],
   "source": [
    "class TradeEnv(gym.Env):\n",
    "    \n",
    "    def __init__(self, input_dim, max_steps, cash_balance):\n",
    "        super(TradeEnv, self).__init__()\n",
    "        self.input_dim = input_dim\n",
    "        self.action_space = spaces.Discrete(3)  # actions: buy, sell and hold\n",
    "        self.observation_space = spaces.Box(low=np.zeros(self.input_dim), high=np.ones(self.input_dim) * np.inf, dtype=np.float64)\n",
    "\n",
    "        self.current_step = 0\n",
    "        self.max_steps = max_steps  # episode terminates when day ends\n",
    "\n",
    "        self.state = None\n",
    "\n",
    "        self.hold_counter = 0\n",
    "        self.impossible_sell_counter = 0\n",
    "        self.current_price = 0\n",
    "        self.initial_cash = cash_balance\n",
    "\n",
    "        self.inventory = {'Last Buy Price': 0,\n",
    "                          'Holdings': 0,\n",
    "                          'Cash Balance': cash_balance,\n",
    "                          'Profit': 0,\n",
    "                          'Volatility': 0,\n",
    "                          'Sharpe Ratio': 0}\n",
    "        \n",
    "\n",
    "    def step(self, action):\n",
    "        self.current_step += 1\n",
    "        done = self.current_step == self.max_steps\n",
    "\n",
    "        reward = self.calculate_pnl(action)\n",
    "        self.state = np.zeros(self.input_dim, np.float32)\n",
    "\n",
    "        info = {\"Profit\": self.inventory[\"Profit\"]}\n",
    "\n",
    "        return self.state, reward, done, info\n",
    "    \n",
    "    def update_state(self, next_state):\n",
    "        self.state = next_state\n",
    "        return self.state\n",
    "    \n",
    "\n",
    "    def reset(self, options):\n",
    "        self.__init__(self.input_dim, self.max_steps, self.initial_cash)\n",
    "        self.state = options[\"initial state\"]\n",
    "\n",
    "        info = {}\n",
    "\n",
    "        return self.state, info\n",
    "\n",
    "\n",
    "    def calculate_pnl(self, action):\n",
    "\n",
    "        self.current_price = self.state[0]  # select open price for OHLCVT data\n",
    "\n",
    "        if action == 0: # buy\n",
    "            buy_quantity = self.inventory[\"Cash Balance\"] / self.current_price\n",
    "            self.inventory['Cash Balance'] = 0\n",
    "            self.inventory[\"Holdings\"] = buy_quantity\n",
    "            self.hold_counter = 0\n",
    "            self.inventory[\"Last Buy Price\"] = self.current_price\n",
    "            reward = 0\n",
    "            self.buy_flag = True\n",
    "\n",
    "        elif action == 1: # sell\n",
    "            if self.inventory[\"Holdings\"] > 0:\n",
    "                self.inventory[\"Cash Balance\"] += self.inventory[\"Holdings\"] * self.current_price\n",
    "                reward = self.inventory[\"Cash Balance\"] - self.inventory[\"Holdings\"] * self.inventory[\"Last Buy Price\"]\n",
    "                self.inventory[\"Holdings\"] = 0\n",
    "                self.inventory[\"Last Buy Price\"] = 0\n",
    "                self.hold_counter = 0\n",
    "                self.inventory['Profit'] += reward\n",
    "            else:\n",
    "                self.impossible_sell_counter += 1\n",
    "                reward = -self.impossible_sell_counter\n",
    "\n",
    "        elif action == 2: # hold\n",
    "            self.hold_counter += 1\n",
    "            reward = -self.hold_counter / self.initial_cash\n",
    "\n",
    "        return reward\n",
    "\n"
   ]
  },
  {
   "cell_type": "code",
   "execution_count": 147,
   "metadata": {},
   "outputs": [
    {
     "name": "stderr",
     "output_type": "stream",
     "text": [
      "/Users/wafic/miniconda3/envs/datalibs/lib/python3.11/site-packages/gymnasium/envs/registration.py:498: UserWarning: \u001b[33mWARN: Overriding environment TradeEnv-v1 already in registry.\u001b[0m\n",
      "  logger.warn(f\"Overriding environment {new_spec.id} already in registry.\")\n"
     ]
    }
   ],
   "source": [
    "register(\n",
    "     id=\"TradeEnv-v1\",\n",
    "     entry_point=\"__main__:TradeEnv\",\n",
    "     kwargs={'input_dim': 6, 'max_steps': 288, 'cash_balance': 1000}\n",
    ")"
   ]
  },
  {
   "cell_type": "code",
   "execution_count": 148,
   "metadata": {},
   "outputs": [],
   "source": [
    "env = gym.make('TradeEnv-v1')"
   ]
  },
  {
   "cell_type": "markdown",
   "metadata": {},
   "source": [
    "# Test"
   ]
  },
  {
   "cell_type": "code",
   "execution_count": 152,
   "metadata": {},
   "outputs": [],
   "source": [
    "df = pd.read_csv('ETHUSD_5.csv', header=None, names=['Time', 'Open', 'High', 'Low', 'Close', 'Volume', 'Trades'])\n",
    "df['Time'] = pd.to_datetime(df['Time'], unit='s')\n",
    "df.set_index('Time', inplace=True)\n",
    "df = df.to_numpy()\n"
   ]
  },
  {
   "cell_type": "code",
   "execution_count": 153,
   "metadata": {},
   "outputs": [
    {
     "data": {
      "text/plain": [
       "array([1934.02      , 1936.57      , 1933.66      , 1935.45      ,\n",
       "        121.35739837,   40.        ])"
      ]
     },
     "execution_count": 153,
     "metadata": {},
     "output_type": "execute_result"
    }
   ],
   "source": [
    "init_state = df[0]\n",
    "init_state"
   ]
  },
  {
   "cell_type": "code",
   "execution_count": 154,
   "metadata": {},
   "outputs": [],
   "source": [
    "first_state, _ = env.reset(options={\"initial state\": init_state})"
   ]
  },
  {
   "cell_type": "code",
   "execution_count": 155,
   "metadata": {},
   "outputs": [
    {
     "name": "stderr",
     "output_type": "stream",
     "text": [
      "/Users/wafic/miniconda3/envs/datalibs/lib/python3.11/site-packages/gymnasium/utils/passive_env_checker.py:141: UserWarning: \u001b[33mWARN: The obs returned by the `step()` method was expecting numpy array dtype to be float64, actual type: float32\u001b[0m\n",
      "  logger.warn(\n"
     ]
    }
   ],
   "source": [
    "next_state, reward, done, info  = env.step(0)"
   ]
  },
  {
   "cell_type": "code",
   "execution_count": 156,
   "metadata": {},
   "outputs": [],
   "source": [
    "next_state = env.update_state(df[1])"
   ]
  },
  {
   "cell_type": "code",
   "execution_count": 157,
   "metadata": {},
   "outputs": [
    {
     "data": {
      "text/plain": [
       "array([1935.91      , 1937.2       , 1934.58      , 1936.95      ,\n",
       "          2.38832811,   14.        ])"
      ]
     },
     "execution_count": 157,
     "metadata": {},
     "output_type": "execute_result"
    }
   ],
   "source": [
    "next_state"
   ]
  },
  {
   "cell_type": "code",
   "execution_count": 158,
   "metadata": {},
   "outputs": [],
   "source": [
    "next_state, reward, done, info  = env.step(1)"
   ]
  },
  {
   "cell_type": "code",
   "execution_count": 159,
   "metadata": {},
   "outputs": [
    {
     "data": {
      "text/plain": [
       "{'Last Buy Price': 0,\n",
       " 'Holdings': 0,\n",
       " 'Cash Balance': 1000.97723911852,\n",
       " 'Profit': 0.9772391185200604,\n",
       " 'Volatility': 0,\n",
       " 'Sharpe Ratio': 0}"
      ]
     },
     "execution_count": 159,
     "metadata": {},
     "output_type": "execute_result"
    }
   ],
   "source": [
    "env.inventory"
   ]
  },
  {
   "cell_type": "code",
   "execution_count": 160,
   "metadata": {},
   "outputs": [
    {
     "data": {
      "text/plain": [
       "0.9772391185200604"
      ]
     },
     "execution_count": 160,
     "metadata": {},
     "output_type": "execute_result"
    }
   ],
   "source": [
    "reward"
   ]
  }
 ],
 "metadata": {
  "kernelspec": {
   "display_name": "datalibs",
   "language": "python",
   "name": "python3"
  },
  "language_info": {
   "codemirror_mode": {
    "name": "ipython",
    "version": 3
   },
   "file_extension": ".py",
   "mimetype": "text/x-python",
   "name": "python",
   "nbconvert_exporter": "python",
   "pygments_lexer": "ipython3",
   "version": "3.11.3"
  }
 },
 "nbformat": 4,
 "nbformat_minor": 2
}
